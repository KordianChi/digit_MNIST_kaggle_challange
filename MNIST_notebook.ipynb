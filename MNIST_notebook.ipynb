{
 "cells": [
  {
   "cell_type": "code",
   "execution_count": 1,
   "id": "3816d93d",
   "metadata": {},
   "outputs": [],
   "source": [
    "import pandas as pd\n",
    "import numpy as np\n",
    "from PIL import Image\n",
    "from matplotlib import pyplot as plt\n",
    "from sklearn.model_selection import train_test_split\n",
    "from sklearn.metrics import classification_report\n",
    "from keras.utils import np_utils\n",
    "from keras.callbacks import EarlyStopping\n",
    "from MNIST import dense_nn_model, conv_nn_model\n",
    "from keras.metrics import BinaryAccuracy"
   ]
  },
  {
   "cell_type": "code",
   "execution_count": 2,
   "id": "67bad6ce",
   "metadata": {},
   "outputs": [],
   "source": [
    "df = pd.read_csv('train.csv')\n",
    "y = df['label']\n",
    "df.drop('label', axis=1, inplace=True)"
   ]
  },
  {
   "cell_type": "code",
   "execution_count": 3,
   "id": "f1507e3b",
   "metadata": {},
   "outputs": [],
   "source": [
    "X = df / 254"
   ]
  },
  {
   "cell_type": "code",
   "execution_count": 4,
   "id": "d400f9b7",
   "metadata": {},
   "outputs": [],
   "source": [
    "X_train, X_test, y_train, y_test = train_test_split(X, y, test_size=0.2, random_state=42)"
   ]
  },
  {
   "cell_type": "code",
   "execution_count": 5,
   "id": "bcb07f9f",
   "metadata": {},
   "outputs": [],
   "source": [
    "dummy_y = np_utils.to_categorical(y_train)"
   ]
  },
  {
   "cell_type": "code",
   "execution_count": 6,
   "id": "25f5fdbf",
   "metadata": {},
   "outputs": [],
   "source": [
    "es = EarlyStopping(patience=6, verbose=3, monitor='loss')"
   ]
  },
  {
   "cell_type": "code",
   "execution_count": 7,
   "id": "be474e33",
   "metadata": {},
   "outputs": [],
   "source": [
    "model1 = dense_nn_model()"
   ]
  },
  {
   "cell_type": "code",
   "execution_count": 8,
   "id": "e6db4a5c",
   "metadata": {},
   "outputs": [
    {
     "name": "stdout",
     "output_type": "stream",
     "text": [
      "Model: \"model\"\n",
      "_________________________________________________________________\n",
      " Layer (type)                Output Shape              Param #   \n",
      "=================================================================\n",
      " input_1 (InputLayer)        [(None, 784)]             0         \n",
      "                                                                 \n",
      " dense (Dense)               (None, 784)               615440    \n",
      "                                                                 \n",
      " activation (Activation)     (None, 784)               0         \n",
      "                                                                 \n",
      " dropout (Dropout)           (None, 784)               0         \n",
      "                                                                 \n",
      " dense_1 (Dense)             (None, 520)               408200    \n",
      "                                                                 \n",
      " activation_1 (Activation)   (None, 520)               0         \n",
      "                                                                 \n",
      " dropout_1 (Dropout)         (None, 520)               0         \n",
      "                                                                 \n",
      " dense_2 (Dense)             (None, 360)               187560    \n",
      "                                                                 \n",
      " activation_2 (Activation)   (None, 360)               0         \n",
      "                                                                 \n",
      " dropout_2 (Dropout)         (None, 360)               0         \n",
      "                                                                 \n",
      " dense_3 (Dense)             (None, 10)                3610      \n",
      "                                                                 \n",
      " activation_3 (Activation)   (None, 10)                0         \n",
      "                                                                 \n",
      "=================================================================\n",
      "Total params: 1,214,810\n",
      "Trainable params: 1,214,810\n",
      "Non-trainable params: 0\n",
      "_________________________________________________________________\n"
     ]
    }
   ],
   "source": [
    "model1.summary()"
   ]
  },
  {
   "cell_type": "code",
   "execution_count": 9,
   "id": "4418f951",
   "metadata": {},
   "outputs": [],
   "source": [
    "model1.compile(optimizer='adam', loss='categorical_crossentropy',\n",
    "               metrics=BinaryAccuracy())"
   ]
  },
  {
   "cell_type": "code",
   "execution_count": 10,
   "id": "c0631910",
   "metadata": {},
   "outputs": [
    {
     "name": "stdout",
     "output_type": "stream",
     "text": [
      "68/68 [==============================] - 4s 42ms/step - loss: 0.4625 - binary_accuracy: 0.9733\n"
     ]
    },
    {
     "data": {
      "text/plain": [
       "<keras.callbacks.History at 0x2115b6930d0>"
      ]
     },
     "execution_count": 10,
     "metadata": {},
     "output_type": "execute_result"
    }
   ],
   "source": [
    "model1.fit(X_train, dummy_y,  epochs=1, batch_size=500, callbacks=es)"
   ]
  },
  {
   "cell_type": "code",
   "execution_count": 11,
   "id": "e3475da7",
   "metadata": {},
   "outputs": [
    {
     "name": "stdout",
     "output_type": "stream",
     "text": [
      "              precision    recall  f1-score   support\n",
      "\n",
      "           0       0.96      0.98      0.97       816\n",
      "           1       0.98      0.98      0.98       909\n",
      "           2       0.98      0.90      0.94       846\n",
      "           3       0.96      0.89      0.92       937\n",
      "           4       0.93      0.96      0.94       839\n",
      "           5       0.93      0.93      0.93       702\n",
      "           6       0.97      0.96      0.97       785\n",
      "           7       0.97      0.92      0.94       893\n",
      "           8       0.95      0.91      0.93       835\n",
      "           9       0.91      0.92      0.92       838\n",
      "\n",
      "   micro avg       0.95      0.93      0.94      8400\n",
      "   macro avg       0.95      0.93      0.94      8400\n",
      "weighted avg       0.95      0.93      0.94      8400\n",
      " samples avg       0.93      0.93      0.93      8400\n",
      "\n"
     ]
    },
    {
     "name": "stderr",
     "output_type": "stream",
     "text": [
      "C:\\Users\\PC\\AppData\\Roaming\\Python\\Python39\\site-packages\\sklearn\\metrics\\_classification.py:1318: UndefinedMetricWarning: Precision and F-score are ill-defined and being set to 0.0 in samples with no predicted labels. Use `zero_division` parameter to control this behavior.\n",
      "  _warn_prf(average, modifier, msg_start, len(result))\n"
     ]
    }
   ],
   "source": [
    "y_pred = model1.predict(X_test).round()\n",
    "dummy_y_test = np_utils.to_categorical(y_test)\n",
    "print(classification_report(dummy_y_test, y_pred))"
   ]
  },
  {
   "cell_type": "code",
   "execution_count": 12,
   "id": "f3310a3e",
   "metadata": {},
   "outputs": [],
   "source": [
    "data_to_transform = np.array(df)\n",
    "X = np.reshape(data_to_transform, (42000, 28, 28, 1))\n",
    "X = X / 254"
   ]
  },
  {
   "cell_type": "code",
   "execution_count": 13,
   "id": "d694052f",
   "metadata": {},
   "outputs": [],
   "source": [
    "X_train, X_test, y_train, y_test = train_test_split(X, y, test_size=0.2, random_state=42)"
   ]
  },
  {
   "cell_type": "code",
   "execution_count": 14,
   "id": "6a598c1e",
   "metadata": {},
   "outputs": [],
   "source": [
    "model2 = conv_nn_model()"
   ]
  },
  {
   "cell_type": "code",
   "execution_count": 15,
   "id": "dcfa6333",
   "metadata": {},
   "outputs": [
    {
     "name": "stdout",
     "output_type": "stream",
     "text": [
      "Model: \"model_1\"\n",
      "_________________________________________________________________\n",
      " Layer (type)                Output Shape              Param #   \n",
      "=================================================================\n",
      " input_2 (InputLayer)        [(None, 28, 28, 1)]       0         \n",
      "                                                                 \n",
      " conv2d (Conv2D)             (None, 28, 28, 64)        640       \n",
      "                                                                 \n",
      " activation_4 (Activation)   (None, 28, 28, 64)        0         \n",
      "                                                                 \n",
      " max_pooling2d (MaxPooling2D  (None, 14, 14, 64)       0         \n",
      " )                                                               \n",
      "                                                                 \n",
      " conv2d_1 (Conv2D)           (None, 14, 14, 128)       73856     \n",
      "                                                                 \n",
      " activation_5 (Activation)   (None, 14, 14, 128)       0         \n",
      "                                                                 \n",
      " max_pooling2d_1 (MaxPooling  (None, 7, 7, 128)        0         \n",
      " 2D)                                                             \n",
      "                                                                 \n",
      " flatten (Flatten)           (None, 6272)              0         \n",
      "                                                                 \n",
      " dense_4 (Dense)             (None, 6272)              39344256  \n",
      "                                                                 \n",
      " activation_6 (Activation)   (None, 6272)              0         \n",
      "                                                                 \n",
      " dropout_3 (Dropout)         (None, 6272)              0         \n",
      "                                                                 \n",
      " dense_5 (Dense)             (None, 128)               802944    \n",
      "                                                                 \n",
      " activation_7 (Activation)   (None, 128)               0         \n",
      "                                                                 \n",
      " dropout_4 (Dropout)         (None, 128)               0         \n",
      "                                                                 \n",
      " dense_6 (Dense)             (None, 10)                1290      \n",
      "                                                                 \n",
      " activation_8 (Activation)   (None, 10)                0         \n",
      "                                                                 \n",
      "=================================================================\n",
      "Total params: 40,222,986\n",
      "Trainable params: 40,222,986\n",
      "Non-trainable params: 0\n",
      "_________________________________________________________________\n"
     ]
    }
   ],
   "source": [
    "model2.summary()"
   ]
  },
  {
   "cell_type": "code",
   "execution_count": 16,
   "id": "a3091562",
   "metadata": {},
   "outputs": [],
   "source": [
    "es = EarlyStopping(patience=6, verbose=3, monitor='loss')"
   ]
  },
  {
   "cell_type": "code",
   "execution_count": 17,
   "id": "c3866bf9",
   "metadata": {},
   "outputs": [],
   "source": [
    "model2.compile(optimizer='adam', loss='categorical_crossentropy', metrics=['accuracy'])"
   ]
  },
  {
   "cell_type": "code",
   "execution_count": 18,
   "id": "1bb0a625",
   "metadata": {},
   "outputs": [
    {
     "name": "stdout",
     "output_type": "stream",
     "text": [
      "68/68 [==============================] - 99s 1s/step - loss: 0.3296 - accuracy: 0.8970\n"
     ]
    },
    {
     "data": {
      "text/plain": [
       "<keras.callbacks.History at 0x2115c05b670>"
      ]
     },
     "execution_count": 18,
     "metadata": {},
     "output_type": "execute_result"
    }
   ],
   "source": [
    "model2.fit(X_train, dummy_y, epochs=1, batch_size=500, callbacks=es)"
   ]
  },
  {
   "cell_type": "code",
   "execution_count": 19,
   "id": "d52f020a",
   "metadata": {},
   "outputs": [
    {
     "name": "stdout",
     "output_type": "stream",
     "text": [
      "              precision    recall  f1-score   support\n",
      "\n",
      "           0       0.99      0.99      0.99       816\n",
      "           1       0.99      0.99      0.99       909\n",
      "           2       0.98      0.96      0.97       846\n",
      "           3       0.98      0.96      0.97       937\n",
      "           4       0.98      0.98      0.98       839\n",
      "           5       0.98      0.96      0.97       702\n",
      "           6       0.97      0.99      0.98       785\n",
      "           7       0.98      0.97      0.98       893\n",
      "           8       0.98      0.96      0.97       835\n",
      "           9       0.97      0.97      0.97       838\n",
      "\n",
      "   micro avg       0.98      0.97      0.98      8400\n",
      "   macro avg       0.98      0.97      0.98      8400\n",
      "weighted avg       0.98      0.97      0.98      8400\n",
      " samples avg       0.97      0.97      0.97      8400\n",
      "\n"
     ]
    },
    {
     "name": "stderr",
     "output_type": "stream",
     "text": [
      "C:\\Users\\PC\\AppData\\Roaming\\Python\\Python39\\site-packages\\sklearn\\metrics\\_classification.py:1318: UndefinedMetricWarning: Precision and F-score are ill-defined and being set to 0.0 in samples with no predicted labels. Use `zero_division` parameter to control this behavior.\n",
      "  _warn_prf(average, modifier, msg_start, len(result))\n"
     ]
    }
   ],
   "source": [
    "y_pred = model2.predict(X_test).round()\n",
    "dummy_y_test = np_utils.to_categorical(y_test)\n",
    "print(classification_report(dummy_y_test, y_pred))"
   ]
  },
  {
   "cell_type": "code",
   "execution_count": 25,
   "id": "d759a5bf",
   "metadata": {},
   "outputs": [
    {
     "data": {
      "image/png": "[encoded data removed]",
      "text/plain": [
       "<Figure size 432x288 with 1 Axes>"
      ]
     },
     "metadata": {
      "needs_background": "light"
     },
     "output_type": "display_data"
    },
    {
     "name": "stdout",
     "output_type": "stream",
     "text": [
      "This is 1\n"
     ]
    },
    {
     "data": {
      "image/png": "[encoded data removed]",
      "text/plain": [
       "<Figure size 432x288 with 1 Axes>"
      ]
     },
     "metadata": {
      "needs_background": "light"
     },
     "output_type": "display_data"
    },
    {
     "name": "stdout",
     "output_type": "stream",
     "text": [
      "This is 5\n"
     ]
    },
    {
     "data": {
      "image/png": "[encoded data removed]",
      "text/plain": [
       "<Figure size 432x288 with 1 Axes>"
      ]
     },
     "metadata": {
      "needs_background": "light"
     },
     "output_type": "display_data"
    },
    {
     "name": "stdout",
     "output_type": "stream",
     "text": [
      "This is 3\n"
     ]
    },
    {
     "data": {
      "image/png": "[encoded data removed]",
      "text/plain": [
       "<Figure size 432x288 with 1 Axes>"
      ]
     },
     "metadata": {
      "needs_background": "light"
     },
     "output_type": "display_data"
    },
    {
     "name": "stdout",
     "output_type": "stream",
     "text": [
      "This is 4\n"
     ]
    },
    {
     "data": {
      "image/png": "[encoded data removed]",
      "text/plain": [
       "<Figure size 432x288 with 1 Axes>"
      ]
     },
     "metadata": {
      "needs_background": "light"
     },
     "output_type": "display_data"
    },
    {
     "name": "stdout",
     "output_type": "stream",
     "text": [
      "This is 5\n"
     ]
    },
    {
     "data": {
      "image/png": "[encoded data removed]",
      "text/plain": [
       "<Figure size 432x288 with 1 Axes>"
      ]
     },
     "metadata": {
      "needs_background": "light"
     },
     "output_type": "display_data"
    },
    {
     "name": "stdout",
     "output_type": "stream",
     "text": [
      "This is 6\n"
     ]
    }
   ],
   "source": [
    "import tensorflow as tf\n",
    "\n",
    "for k in range(1,7):\n",
    "    img = Image.open(fr'real_data\\digit{k}.jpg')\n",
    "    img = tf.image.rgb_to_grayscale(img)\n",
    "    img = tf.keras.preprocessing.image.smart_resize(img, (28, 28))\n",
    "    array = tf.keras.preprocessing.image.img_to_array(img)\n",
    "    image = tf.keras.preprocessing.image.array_to_img(array)\n",
    "    array = (array - array.min()) / (array.max() - array.min())\n",
    "    array = (1 - array)\n",
    "    array[array < 0.5] = 0\n",
    "    data = array.reshape(1, 28, 28, 1)\n",
    "    img = tf.keras.preprocessing.image.array_to_img(array)\n",
    "    plt.imshow(img, cmap='gray')\n",
    "    plt.show()\n",
    "    y_pred = model2.predict(data).round()\n",
    "    s = pd.DataFrame(y_pred)\n",
    "    result = pd.DataFrame(pd.get_dummies(s).idxmax(1))\n",
    "    print(f'This is {result.iloc[0].iloc[0]}')\n"
   ]
  },
  {
   "cell_type": "code",
   "execution_count": null,
   "id": "5096424e",
   "metadata": {},
   "outputs": [],
   "source": []
  }
 ],
 "metadata": {
  "kernelspec": {
   "display_name": "Python 3 (ipykernel)",
   "language": "python",
   "name": "python3"
  },
  "language_info": {
   "codemirror_mode": {
    "name": "ipython",
    "version": 3
   },
   "file_extension": ".py",
   "mimetype": "text/x-python",
   "name": "python",
   "nbconvert_exporter": "python",
   "pygments_lexer": "ipython3",
   "version": "3.9.7"
  }
 },
 "nbformat": 4,
 "nbformat_minor": 5
}
